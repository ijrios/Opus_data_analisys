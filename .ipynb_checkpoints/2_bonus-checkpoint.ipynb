{
 "cells": [
  {
   "cell_type": "markdown",
   "id": "e4eb4fe4",
   "metadata": {},
   "source": [
    "## Bonificación "
   ]
  },
  {
   "cell_type": "code",
   "execution_count": null,
   "id": "d18512c7",
   "metadata": {},
   "outputs": [],
   "source": [
    "import pandas as pd\n",
    "\n",
    "dataset = pd.read_csv('CountyHealthData_2014-2015.csv')\n",
    "dataset.head()"
   ]
  },
  {
   "cell_type": "code",
   "execution_count": null,
   "id": "d3d17b90",
   "metadata": {
    "scrolled": true
   },
   "outputs": [],
   "source": [
    "dataset.describe()"
   ]
  },
  {
   "cell_type": "code",
   "execution_count": null,
   "id": "dac4a704",
   "metadata": {},
   "outputs": [],
   "source": [
    "dataset.columns.values"
   ]
  },
  {
   "cell_type": "markdown",
   "id": "4a45ca33",
   "metadata": {},
   "source": [
    "### 1. What are the 5 states with the highest average adult smoking rates? Show the states and their smoking rates."
   ]
  },
  {
   "cell_type": "code",
   "execution_count": null,
   "id": "c9f99629",
   "metadata": {},
   "outputs": [],
   "source": [
    "smoking = dataset.groupby(\"State\").max()[\"Adult smoking\"]\n",
    "smoking = smoking.sort_values(ascending = False).round(3)\n",
    "smoking.head()"
   ]
  },
  {
   "cell_type": "markdown",
   "id": "d5adde07",
   "metadata": {},
   "source": [
    "### 2. Can you find all the counties with FEI values of 9 or higher?"
   ]
  },
  {
   "cell_type": "code",
   "execution_count": null,
   "id": "8257dbe5",
   "metadata": {},
   "outputs": [],
   "source": [
    "FEI = dataset[dataset[\"Food environment index\"] >= 9]\n",
    "FEI.head()"
   ]
  },
  {
   "cell_type": "markdown",
   "id": "6e368455",
   "metadata": {},
   "source": [
    "### 3. In many counties one can find more primary care physicians than dentists. However, in a few counties there are more than 5 times as many dentists as there are primary care physicians."
   ]
  },
  {
   "cell_type": "markdown",
   "id": "e4602da2",
   "metadata": {},
   "source": [
    "#### • Which counties are these?"
   ]
  },
  {
   "cell_type": "code",
   "execution_count": null,
   "id": "c063a585",
   "metadata": {
    "scrolled": true
   },
   "outputs": [],
   "source": [
    "F = Medico[(Medico[\"Dentists\"] > 20) & (Medico[\"Primary care physicians\"]  > (Medico[\"Dentists\"])*5)]\n",
    "F.head()"
   ]
  },
  {
   "cell_type": "markdown",
   "id": "697e7dc4",
   "metadata": {},
   "source": [
    "#### Aquí podemos apreciar los 5 estados con más número de dentistas."
   ]
  },
  {
   "cell_type": "markdown",
   "id": "010910e6",
   "metadata": {},
   "source": [
    "#### •\tWhich of these counties has the most dentists?"
   ]
  },
  {
   "cell_type": "code",
   "execution_count": null,
   "id": "2bb56d56",
   "metadata": {
    "scrolled": true
   },
   "outputs": [],
   "source": [
    "dentis = dataset.groupby(\"State\").max()[\"Dentists\"]\n",
    "dentis = dentis.sort_values(ascending = False).round(2)\n",
    "dentis.head()"
   ]
  },
  {
   "cell_type": "markdown",
   "id": "e95efbd3",
   "metadata": {},
   "source": [
    "#### •\tWhich of these has the most dentists per capita? "
   ]
  },
  {
   "cell_type": "code",
   "execution_count": null,
   "id": "0ada0949",
   "metadata": {},
   "outputs": [],
   "source": [
    "denstis_capita = pd.DataFrame()\n",
    "denstis_capita['State'] = dataset['State']\n",
    "denstis_capita['County'] = dataset['County']\n",
    "denstis_capita['Dentists per capita'] = dataset['Dentists']/dataset['2011 population estimate']\n",
    "denstis_capita.head().sort_values(by='Dentists per capita', ascending=False)"
   ]
  },
  {
   "cell_type": "markdown",
   "id": "c945cc51",
   "metadata": {},
   "source": [
    "### 4. Create a dataframe that only includes counties in the state of North Carolina. "
   ]
  },
  {
   "cell_type": "markdown",
   "id": "882a64ee",
   "metadata": {},
   "source": [
    "#### •\tSort your new dataframe by \"Adult obesity.\" Use .loc to display the County name, \"State,\" \"Adult obesity,\" and \"Physical inactivity\" for each county. Do you notice any patterns? How do \"Physical inactivity\" values change as \"Adult obesity\" values go up "
   ]
  },
  {
   "cell_type": "code",
   "execution_count": null,
   "id": "972ba42b",
   "metadata": {},
   "outputs": [],
   "source": [
    "Obesity = pd.DataFrame()\n",
    "filter = dataset[(dataset[\"State\"] == \"NC\")]\n",
    "Obesity['State'] = (filtro[\"State\"])\n",
    "Obesity['County'] = (filtro[\"County\"])\n",
    "Obesity['Adult obesity'] = filtro['Adult obesity'] \n",
    "Obesity['Physical inactivity'] = filtro[\"Physical inactivity\"] \n",
    "Obesity.head()"
   ]
  },
  {
   "cell_type": "code",
   "execution_count": null,
   "id": "2c04dc74",
   "metadata": {},
   "outputs": [],
   "source": [
    "Obesity.loc[3245]"
   ]
  },
  {
   "cell_type": "markdown",
   "id": "e8b05f0f",
   "metadata": {},
   "source": [
    "#### •\tUse matplotlib to visualize this relationship (adult obesity vs physical inactivity). Does your plot look the way you expected it to? "
   ]
  },
  {
   "cell_type": "code",
   "execution_count": null,
   "id": "1cc6ca04",
   "metadata": {
    "scrolled": true
   },
   "outputs": [],
   "source": [
    "import matplotlib.pyplot as plt\n",
    "\n",
    "obesity = dataset.groupby([\"State\"]).mean().reset_index()\n",
    "\n",
    "obesity = obesity[[\"Adult obesity\",\"Physical inactivity\"]]\n",
    "\n",
    "plt.scatter(x = obesity[\"Adult obesity\"],\n",
    "            y = obesity[\"Physical inactivity\"])\n",
    "\n",
    "plt.title(\"Adult obesity vs Physical inactivity by State\")\n",
    "plt.xlabel(\"Adult obesity\")\n",
    "plt.ylabel(\"Physical inactivity\")"
   ]
  },
  {
   "cell_type": "markdown",
   "id": "19b09213",
   "metadata": {},
   "source": [
    "### *- Mientras mayor es la inactividad fisica de una persona tiende a ser mas obesa, podemos apreciar en la gráfica que se incrementa el valor de la columna \"Adult obesity\" a medida que \"Physical inactivity\" sube.*"
   ]
  },
  {
   "cell_type": "markdown",
   "id": "16fef5e5",
   "metadata": {},
   "source": [
    "### 5. The \"Some college\" column denotes the percantage of the population that have taken any number of college classes.\n",
    "\n",
    "\n"
   ]
  },
  {
   "cell_type": "markdown",
   "id": "65f8c6de",
   "metadata": {},
   "source": [
    "#### • What is the \"Some college\" value for Orange County, North Carolina in 2015? "
   ]
  },
  {
   "cell_type": "code",
   "execution_count": null,
   "id": "a6d3eeaa",
   "metadata": {},
   "outputs": [],
   "source": [
    "new = pd.DataFrame()\n",
    "filter_college = dataset[(dataset[\"State\"] == \"NC\") & (dataset[\"County\"] == \"Orange County\")]\n",
    "new['State'] = (filter_college[\"State\"])\n",
    "new['County'] = (filter_college[\"County\"])\n",
    "new['Year'] = (filter_college[\"Year\"])\n",
    "new['Some college'] = filter_college['Some college'] \n",
    "new"
   ]
  },
  {
   "cell_type": "code",
   "execution_count": null,
   "id": "ba140f8e",
   "metadata": {},
   "outputs": [],
   "source": [
    "diem = new[(new[\"Year\"] == \"1/1/2015\")]\n",
    "diem.head()"
   ]
  },
  {
   "cell_type": "markdown",
   "id": "95057508",
   "metadata": {},
   "source": [
    "#### • How does it compare to the \"Some college\" value for Orange County, California?"
   ]
  },
  {
   "cell_type": "markdown",
   "id": "57fb7114",
   "metadata": {},
   "source": [
    "- *El porcentaje de la población que ha tomado cualquier número de clases universitarias en 2015 se mantuvo casi igual al año 2014, solo 0.014*\n"
   ]
  },
  {
   "cell_type": "markdown",
   "id": "478d42c1",
   "metadata": {},
   "source": [
    "#### • How do the values for these two counties compare to the national average \"Some college\" value?  "
   ]
  },
  {
   "cell_type": "code",
   "execution_count": null,
   "id": "40bbc0fa",
   "metadata": {},
   "outputs": [],
   "source": [
    "dataset['Some college'].describe()"
   ]
  },
  {
   "cell_type": "markdown",
   "id": "339bcc27",
   "metadata": {},
   "source": [
    "#### Como podemos observar el valor promedio a nivel nacional \"Some college\" es de  0.55 y el valor que nos muestra para este condado es de 0.789, por lo tanto, es mayor al valor promedio nacional, este condado con respecto a otros , presenta un mayor porcentaje de la población que ha tomado cualquier número de clases universitarias"
   ]
  },
  {
   "cell_type": "markdown",
   "id": "2c965a86",
   "metadata": {},
   "source": [
    "# Punto 5"
   ]
  },
  {
   "cell_type": "markdown",
   "id": "85a63b95",
   "metadata": {},
   "source": [
    "- Usted compró recientemente el álbum de láminas para el mundial. Suponga que el álbum tiene 300 láminas y que la probabilidad de sacar cualquier lámina es uniforme (es decir, todas las láminas tienen la misma probabilidad de salir).\n",
    "- Usando Python, cree un código que de forma aleatoria empiece a sacar una por una las láminas hasta que “llene” completamente el álbum, registrando cuántas láminas tuvo que sacar en total. En Python, repita el experimento anterior unas 10000 veces, y registre en cada experimento el número de láminas que tuvo que sacar para poder llenar el álbum y grafique este valor en un histograma. ¿Cuál es el número promedio de láminas que se necesitan?\n"
   ]
  },
  {
   "cell_type": "code",
   "execution_count": null,
   "id": "ad90195d",
   "metadata": {},
   "outputs": [],
   "source": [
    "%matplotlib inline"
   ]
  },
  {
   "cell_type": "code",
   "execution_count": 6,
   "id": "d4e721fa",
   "metadata": {},
   "outputs": [
    {
     "ename": "SyntaxError",
     "evalue": "invalid syntax (1304091419.py, line 9)",
     "output_type": "error",
     "traceback": [
      "\u001b[1;36m  Input \u001b[1;32mIn [6]\u001b[1;36m\u001b[0m\n\u001b[1;33m    int main(){\u001b[0m\n\u001b[1;37m        ^\u001b[0m\n\u001b[1;31mSyntaxError\u001b[0m\u001b[1;31m:\u001b[0m invalid syntax\n"
     ]
    }
   ],
   "source": [
    "import random\n",
    "import matplotlib.pyplot as plt\n",
    "\n",
    "\n",
    "\n",
    "\n",
    "\n",
    "\n",
    "int main(){\n",
    "    \n",
    "    experimenta = int(input(\"Intra numerum experimentorum: \"))\n",
    "    experimenta_matrix = []\n",
    "    experimenta_nomen = []\n",
    "\n",
    "    for x in range(0,experimenta):\n",
    "    \n",
    "        globals()['experimentum%s' % x]  = 0\n",
    "        globals()['matrix%s' % x] = []\n",
    "        #i = len(matrix)\n",
    "        folium = 0\n",
    "    \n",
    "        do{\n",
    "           \n",
    "            numerus = random.randint(1, 300)\n",
    "            print('Numerus ' + str(numerus))\n",
    "        \n",
    "            if numerus not in globals()['matrix%s' % x]:\n",
    "                globals()['matrix%s' % x].append(numerus)\n",
    "                folium = folium + 1\n",
    "                globals()['experimentum%s' % x] = globals()['experimentum%s' % x] + 1\n",
    "                print(\"Folium est ingressus\")\n",
    "        \n",
    "            elif numerus in globals()['matrix%s' % x]:\n",
    "                folium = folium\n",
    "                globals()['experimentum%s' % x] = globals()['experimentum%s' % x] + 1\n",
    "                print(\"Non intravit, iam exstat\")\n",
    "    \n",
    "            } while( folium < 299 );\n",
    "\n",
    "        experimenta_matrix.append(globals()['experimentum%s' % x])\n",
    "        experimenta_nomen.append('fact'+str(x))\n",
    "        print(\"Experimentorum numero: \" + str(x) + \"Totalis numerus foliorum: \" + str(globals()['experimentum%s' % x]) ) \n",
    "        print(globals()['matrix%s' % x])\n",
    "    #print(experimenta_nomen)\n",
    "    \n",
    "    #------------- Graphics ---------------------------------\n",
    "    \n",
    "    x_valorem = experimenta_nomen\n",
    "    y_valorem = experimenta_matrix\n",
    "    \n",
    "    plt.bar(x_valorem, y_valorem) #Graphic\n",
    "    plt.title('Experimenta - Totalis numerus foliorum implere album ') #Titulus \n",
    "    ax = plt.subplot() #Axis \n",
    "    ax.set_xticks(x_valorem) #Axis x \n",
    "    ax.set_xticklabels(x_valorem) #Label axis x\n",
    "    ax.set_ylabel('Totalis numerus foliorum') #Nomen axis Y\n",
    "    ax.set_xlabel('Experiementa numerus') #Nomen axis X\n",
    "    \n",
    "    figure(2)\n",
    "    experimenta_matrix.hist()\n",
    "    \n",
    "    # ---------- Statistics Data ---------------------------\n",
    " \n",
    "      \n",
    "}\n"
   ]
  },
  {
   "cell_type": "code",
   "execution_count": null,
   "id": "ce049ab0",
   "metadata": {},
   "outputs": [],
   "source": [
    "import random\n",
    "import matplotlib.pyplot as plt\n",
    "\n",
    "        \n",
    "def Random():\n",
    "    numerus = random.randint(1, 300)\n",
    "    print('Numerus ' + str(numerus))\n",
    "    \n",
    "def main():\n",
    "    experimenta_matrix = []\n",
    "    experimenta_nomen = []\n",
    "    experimenta = int(input(\"Intra numerum experimentorum: \"))\n",
    "    \n",
    "    for x in range(0,experimenta):\n",
    "        \n",
    "        globals()['experimentum%s' % x]  = 0\n",
    "        globals()['matrix%s' % x] = []\n",
    "        #i = len(matrix)\n",
    "        folium = 0\n",
    "        while folium <= 299:\n",
    "            \n",
    "            alef = Random()\n",
    "            \n",
    "            if alef not in globals()['matrix%s' % x]:\n",
    "                globals()['matrix%s' % x].append(alef)\n",
    "                folium = folium + 1\n",
    "                globals()['experimentum%s' % x] = globals()['experimentum%s' % x] + 1\n",
    "                print(\"Folium est ingressus\")\n",
    "            \n",
    "            elif alef in globals()['matrix%s' % x]:\n",
    "                folium = folium\n",
    "                globals()['experimentum%s' % x] = globals()['experimentum%s' % x] + 1\n",
    "                print(\"Non intravit, iam exstat\")\n",
    "        \n",
    "        experimenta_matrix.append(globals()['experimentum%s' % x])\n",
    "        experimenta_nomen.append('fact'+str(x))\n",
    "        print(\"Experimentorum numero: \" + str(x) + \"Totalis numerus foliorum: \" + str(globals()['experimentum%s' % x]) ) \n",
    "        print(globals()['matrix%s' % x])\n",
    "        #print(experimenta_nomen)\n",
    "        \n",
    "        x_valorem = experimenta_nomen\n",
    "        y_valorem = experimenta_matrix\n",
    "        \n",
    "        plt.bar(x_valorem, y_valorem) #El gráfico \n",
    "        plt.title('Experimenta - Totalis numerus foliorum implere album ') #El título \n",
    "        ax = plt.subplot() #Axis \n",
    "        ax.set_xticks(x_valorem) #Eje x \n",
    "        ax.set_xticklabels(x_valorem) #Etiquetas del eje x \n",
    "        ax.set_ylabel('Totalis numerus foliorum') #Nombre del eje y\n",
    "        ax.set_xlabel('Experiementa numerus') #Nombre del eje x\n",
    "       \n",
    "main()\n",
    "\n"
   ]
  },
  {
   "cell_type": "code",
   "execution_count": null,
   "id": "4b2d84d3",
   "metadata": {},
   "outputs": [],
   "source": []
  }
 ],
 "metadata": {
  "kernelspec": {
   "display_name": "Python 3 (ipykernel)",
   "language": "python",
   "name": "python3"
  },
  "language_info": {
   "codemirror_mode": {
    "name": "ipython",
    "version": 3
   },
   "file_extension": ".py",
   "mimetype": "text/x-python",
   "name": "python",
   "nbconvert_exporter": "python",
   "pygments_lexer": "ipython3",
   "version": "3.9.12"
  }
 },
 "nbformat": 4,
 "nbformat_minor": 5
}
